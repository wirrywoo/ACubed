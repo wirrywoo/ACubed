{
 "cells": [
  {
   "cell_type": "markdown",
   "id": "a375df46-3e8d-496c-b9f2-956a649ee2b0",
   "metadata": {
    "papermill": {},
    "tags": []
   },
   "source": [
    "<img width=\"8%\" alt=\"Python.png\" src=\"https://raw.githubusercontent.com/wirrywoo/ACubed/refs/heads/master/assets/logo/no-dark-mode.png\" style=\"border-radius: 15%\">"
   ]
  },
  {
   "cell_type": "markdown",
   "id": "7da76030-0b3c-4c2f-9e7b-36043d3cd1a1",
   "metadata": {
    "papermill": {},
    "tags": []
   },
   "source": [
    "# Overview of Supported Datatypes\n",
    "<a href=\"https://bit.ly/3JyWIk6\">Give Feedback</a> | <a href=\"https://github.com/wirrywoo/acubed/issues\">Bug report</a>"
   ]
  },
  {
   "cell_type": "markdown",
   "id": "e502ab4b-f881-47fa-a199-1d9604807537",
   "metadata": {
    "papermill": {},
    "tags": []
   },
   "source": [
    "**Author:** [`WirryWoo`](https://www.flashflashrevolution.com/profile/WirryWoo/)"
   ]
  },
  {
   "cell_type": "markdown",
   "id": "01ac759b-95cd-443c-b49d-741ba1d2ace4",
   "metadata": {
    "papermill": {},
    "tags": []
   },
   "source": [
    "**Last update:** `November 5, 2024` (Created: `November 4, 2024`)"
   ]
  },
  {
   "cell_type": "markdown",
   "id": "b447e3a8-ced8-4831-bbfc-ca5a7466df6f",
   "metadata": {
    "papermill": {},
    "tags": []
   },
   "source": [
    "**Description:** This notebook provides a comprehensive overview of the datatypes supported in `acubed`."
   ]
  },
  {
   "cell_type": "markdown",
   "id": "8848fad9-b586-4662-bb43-19c52e25967a",
   "metadata": {
    "papermill": {},
    "tags": []
   },
   "source": [
    "**References:**\n",
    "- [Python Currency converter](https://forex-python.readthedocs.io/en/latest/usage.html)"
   ]
  },
  {
   "cell_type": "markdown",
   "id": "be71fe01-3f32-4bef-b52f-14559736a10e",
   "metadata": {
    "papermill": {},
    "tags": []
   },
   "source": [
    "## Introduction\n",
    "\n",
    "`acubed` provides a suite of modules designed to tackle challenges associated with standardizing stepfile difficulty measurement and assessing player skill rating in vertical scroll rhythm games. These modules operate on custom-built in-memory representations designed to facilitate the ingestion of stepfiles and player stats into a supported Python session for upstream machine learning analysis. It is essential for users to become acquainted with these representations, as preparing data in a format compatible with `acubed` is typically the initial step when utilizing any of its modules."
   ]
  },
  {
   "cell_type": "markdown",
   "id": "220765c9-8ed8-477d-bd68-589b9b9f5060",
   "metadata": {
    "papermill": {},
    "tags": []
   },
   "source": [
    "### Import libraries"
   ]
  },
  {
   "cell_type": "code",
   "execution_count": 1,
   "id": "c1e23f36-c78c-46e7-83a7-ba82dbf9a2eb",
   "metadata": {
    "papermill": {},
    "tags": []
   },
   "outputs": [],
   "source": [
    "from acubed.datatypes import Note, Stepfile"
   ]
  },
  {
   "cell_type": "markdown",
   "id": "42d55e20-7281-4458-a032-8f4b770efe40",
   "metadata": {
    "papermill": {},
    "tags": []
   },
   "source": [
    "### Notes"
   ]
  },
  {
   "cell_type": "markdown",
   "id": "4b1df285-3221-458d-899d-bd2a0bf3fe0a",
   "metadata": {
    "papermill": {},
    "tags": []
   },
   "source": [
    "In the realm of vertical scroll rhythm games, notes act as the fundamental \"atoms\" crucial to defining the gameplay experience. These elements appear as visual cues that generally move vertically across the screen toward designated receptors. Players must respond to these notes in synchronization with the music by pressing the appropriate keys or buttons.\n",
    "\n",
    "Each note is characterized by specific attributes that differentiate it from others. The `time` attribute specifies when a player needs to hit the note as it reaches the receptors. The `step` attribute is a binary string representation that determines which orientations must be activated when the note aligns with the receptors. The precise configuration and timing of these notes are critical, as they influence the rhythm and difficulty of the game, offering both challenge and engagement for players. Understanding the structure of these note atoms is essential for analyzing rhythm game levels.\n",
    "\n",
    "In `acubed`, you can create `Note` objects by specifying the `time` and `step` attributes. For example, in a $4$-key setup with the order of left, down, up, and right, pressing both the up and down arrows $2.5$ seconds into the level can be represented as:"
   ]
  },
  {
   "cell_type": "code",
   "execution_count": 2,
   "id": "72a0a05f-2935-4505-8a09-3602e791774c",
   "metadata": {
    "papermill": {},
    "tags": []
   },
   "outputs": [
    {
     "data": {
      "text/plain": [
       "Note(time=2.5, step='0110')"
      ]
     },
     "execution_count": 2,
     "metadata": {},
     "output_type": "execute_result"
    }
   ],
   "source": [
    "Note(time = 2.5, step = '0110')"
   ]
  },
  {
   "cell_type": "markdown",
   "id": "66d21ba1-853b-48a8-8802-7ebad42e4789",
   "metadata": {
    "papermill": {},
    "tags": []
   },
   "source": [
    "A `ValueError` will be raised if one of two conditions are not met:\n",
    "\n",
    "- The `time` attribute $t$ must be non-negative ($t \\geq 0$).\n",
    "- The `step` attribute $s$ must be a string composed solely of `0` or `1` for each orientation, with at least one of $n$ orientations having a value of `1`. Mathematically, this is expressed as $s \\in \\{(s_1, \\cdots, s_n) \\in \\{0, 1\\}^n | \\sum_{i=1}^n s_i > 0 \\}$."
   ]
  },
  {
   "cell_type": "code",
   "execution_count": 3,
   "id": "8879b1fd-70fb-4e12-95a9-9f539c1312c4",
   "metadata": {},
   "outputs": [
    {
     "ename": "ValueError",
     "evalue": "Time attribute must be non-negative.",
     "output_type": "error",
     "traceback": [
      "\u001b[0;31m---------------------------------------------------------------------------\u001b[0m",
      "\u001b[0;31mValueError\u001b[0m                                Traceback (most recent call last)",
      "Cell \u001b[0;32mIn[3], line 1\u001b[0m\n\u001b[0;32m----> 1\u001b[0m \u001b[43mNote\u001b[49m\u001b[43m(\u001b[49m\u001b[43mtime\u001b[49m\u001b[43m \u001b[49m\u001b[38;5;241;43m=\u001b[39;49m\u001b[43m \u001b[49m\u001b[38;5;241;43m-\u001b[39;49m\u001b[38;5;241;43m2.5\u001b[39;49m\u001b[43m,\u001b[49m\u001b[43m \u001b[49m\u001b[43mstep\u001b[49m\u001b[43m \u001b[49m\u001b[38;5;241;43m=\u001b[39;49m\u001b[43m \u001b[49m\u001b[38;5;124;43m'\u001b[39;49m\u001b[38;5;124;43m0110\u001b[39;49m\u001b[38;5;124;43m'\u001b[39;49m\u001b[43m)\u001b[49m\n",
      "File \u001b[0;32m/mnt/c/cygwin64/home/wcheu/acubed/acubed/datatypes.py:45\u001b[0m, in \u001b[0;36mNote.__new__\u001b[0;34m(cls, time, step, num_receptors)\u001b[0m\n\u001b[1;32m     42\u001b[0m \u001b[38;5;28mcls\u001b[39m\u001b[38;5;241m.\u001b[39mnum_receptors \u001b[38;5;241m=\u001b[39m num_receptors\n\u001b[1;32m     44\u001b[0m \u001b[38;5;28;01mif\u001b[39;00m time \u001b[38;5;241m<\u001b[39m \u001b[38;5;241m0\u001b[39m:\n\u001b[0;32m---> 45\u001b[0m     \u001b[38;5;28;01mraise\u001b[39;00m \u001b[38;5;167;01mValueError\u001b[39;00m(\u001b[38;5;124m\"\u001b[39m\u001b[38;5;124mTime attribute must be non-negative.\u001b[39m\u001b[38;5;124m\"\u001b[39m)\n\u001b[1;32m     47\u001b[0m valid_steps \u001b[38;5;241m=\u001b[39m [\u001b[38;5;124mf\u001b[39m\u001b[38;5;124m\"\u001b[39m\u001b[38;5;132;01m{\u001b[39;00mi\u001b[38;5;132;01m:\u001b[39;00m\u001b[38;5;124m0\u001b[39m\u001b[38;5;132;01m{\u001b[39;00m\u001b[38;5;28mcls\u001b[39m\u001b[38;5;241m.\u001b[39mnum_receptors\u001b[38;5;132;01m}\u001b[39;00m\u001b[38;5;124mb\u001b[39m\u001b[38;5;132;01m}\u001b[39;00m\u001b[38;5;124m\"\u001b[39m\n\u001b[1;32m     48\u001b[0m                \u001b[38;5;28;01mfor\u001b[39;00m i \u001b[38;5;129;01min\u001b[39;00m \u001b[38;5;28mrange\u001b[39m(\u001b[38;5;241m1\u001b[39m, \u001b[38;5;28mpow\u001b[39m(\u001b[38;5;241m2\u001b[39m, \u001b[38;5;28mcls\u001b[39m\u001b[38;5;241m.\u001b[39mnum_receptors))]\n\u001b[1;32m     49\u001b[0m \u001b[38;5;28;01mif\u001b[39;00m step \u001b[38;5;129;01mnot\u001b[39;00m \u001b[38;5;129;01min\u001b[39;00m valid_steps:\n",
      "\u001b[0;31mValueError\u001b[0m: Time attribute must be non-negative."
     ]
    }
   ],
   "source": [
    "Note(time = -2.5, step = '0110')"
   ]
  },
  {
   "cell_type": "code",
   "execution_count": 4,
   "id": "e189de1f-a8eb-4228-84d1-a7ef5a59ffe5",
   "metadata": {},
   "outputs": [
    {
     "ename": "ValueError",
     "evalue": "Step attribute must be one of ['0001', '0010', '0011', '0100', '0101', '0110', '0111', '1000', '1001', '1010', '1011', '1100', '1101', '1110', '1111'].",
     "output_type": "error",
     "traceback": [
      "\u001b[0;31m---------------------------------------------------------------------------\u001b[0m",
      "\u001b[0;31mValueError\u001b[0m                                Traceback (most recent call last)",
      "Cell \u001b[0;32mIn[4], line 1\u001b[0m\n\u001b[0;32m----> 1\u001b[0m \u001b[43mNote\u001b[49m\u001b[43m(\u001b[49m\u001b[43mtime\u001b[49m\u001b[43m \u001b[49m\u001b[38;5;241;43m=\u001b[39;49m\u001b[43m \u001b[49m\u001b[38;5;241;43m2.5\u001b[39;49m\u001b[43m,\u001b[49m\u001b[43m \u001b[49m\u001b[43mstep\u001b[49m\u001b[43m \u001b[49m\u001b[38;5;241;43m=\u001b[39;49m\u001b[43m \u001b[49m\u001b[38;5;124;43m'\u001b[39;49m\u001b[38;5;124;43m0120\u001b[39;49m\u001b[38;5;124;43m'\u001b[39;49m\u001b[43m)\u001b[49m\n",
      "File \u001b[0;32m/mnt/c/cygwin64/home/wcheu/acubed/acubed/datatypes.py:50\u001b[0m, in \u001b[0;36mNote.__new__\u001b[0;34m(cls, time, step, num_receptors)\u001b[0m\n\u001b[1;32m     47\u001b[0m valid_steps \u001b[38;5;241m=\u001b[39m [\u001b[38;5;124mf\u001b[39m\u001b[38;5;124m\"\u001b[39m\u001b[38;5;132;01m{\u001b[39;00mi\u001b[38;5;132;01m:\u001b[39;00m\u001b[38;5;124m0\u001b[39m\u001b[38;5;132;01m{\u001b[39;00m\u001b[38;5;28mcls\u001b[39m\u001b[38;5;241m.\u001b[39mnum_receptors\u001b[38;5;132;01m}\u001b[39;00m\u001b[38;5;124mb\u001b[39m\u001b[38;5;132;01m}\u001b[39;00m\u001b[38;5;124m\"\u001b[39m\n\u001b[1;32m     48\u001b[0m                \u001b[38;5;28;01mfor\u001b[39;00m i \u001b[38;5;129;01min\u001b[39;00m \u001b[38;5;28mrange\u001b[39m(\u001b[38;5;241m1\u001b[39m, \u001b[38;5;28mpow\u001b[39m(\u001b[38;5;241m2\u001b[39m, \u001b[38;5;28mcls\u001b[39m\u001b[38;5;241m.\u001b[39mnum_receptors))]\n\u001b[1;32m     49\u001b[0m \u001b[38;5;28;01mif\u001b[39;00m step \u001b[38;5;129;01mnot\u001b[39;00m \u001b[38;5;129;01min\u001b[39;00m valid_steps:\n\u001b[0;32m---> 50\u001b[0m     \u001b[38;5;28;01mraise\u001b[39;00m \u001b[38;5;167;01mValueError\u001b[39;00m(\u001b[38;5;124mf\u001b[39m\u001b[38;5;124m\"\u001b[39m\u001b[38;5;124mStep attribute must be one of \u001b[39m\u001b[38;5;132;01m{\u001b[39;00mvalid_steps\u001b[38;5;132;01m}\u001b[39;00m\u001b[38;5;124m.\u001b[39m\u001b[38;5;124m\"\u001b[39m)\n\u001b[1;32m     52\u001b[0m \u001b[38;5;28;01mreturn\u001b[39;00m cast(Note, \u001b[38;5;28msuper\u001b[39m()\u001b[38;5;241m.\u001b[39m\u001b[38;5;21m__new__\u001b[39m(\u001b[38;5;28mcls\u001b[39m, time, step))\n",
      "\u001b[0;31mValueError\u001b[0m: Step attribute must be one of ['0001', '0010', '0011', '0100', '0101', '0110', '0111', '1000', '1001', '1010', '1011', '1100', '1101', '1110', '1111']."
     ]
    }
   ],
   "source": [
    "Note(time = 2.5, step = '0120')"
   ]
  },
  {
   "cell_type": "markdown",
   "id": "f794c0ef-cc63-4e39-bba4-a31ce3ab7ae5",
   "metadata": {
    "papermill": {},
    "tags": []
   },
   "source": [
    "To accommodate rhythm games with different numbers of receptors, such as the $6$-key Solo game mode in Etterna, `Note` objects can be instantiated by overriding the default `num_receptors` attribute to match the desired $n$-key setup."
   ]
  },
  {
   "cell_type": "code",
   "execution_count": 5,
   "id": "eb1ea701-6fab-4726-9313-72c09d9ef9d9",
   "metadata": {
    "papermill": {},
    "tags": []
   },
   "outputs": [
    {
     "data": {
      "text/plain": [
       "Note(time=2.5, step='001100')"
      ]
     },
     "execution_count": 5,
     "metadata": {},
     "output_type": "execute_result"
    }
   ],
   "source": [
    "Note(time = 2.5, step = '001100', num_receptors = 6)"
   ]
  },
  {
   "cell_type": "markdown",
   "id": "df81674b-e699-48ab-ac4f-d75e763bea61",
   "metadata": {},
   "source": [
    "#### Supported Note Operations"
   ]
  },
  {
   "cell_type": "markdown",
   "id": "eb558509-a3c3-4b32-a974-8edcbb379026",
   "metadata": {
    "papermill": {},
    "tags": []
   },
   "source": [
    "In `acubed`, the addition operation for `Note` objects is implemented in a somewhat unconventional manner. This operation represents the following combinations:\n",
    "- Merging two non-overlapping single steps results in a jump.\n",
    "- Merging a non-overlapping step with a jump yields a hand.\n",
    "- Merging two non-overlapping jumps, or a non-overlapping note with a hand, results in a quad.\n",
    "\n",
    "Shown below is an example of adding one non-overlapping step with a jump to form a hand."
   ]
  },
  {
   "cell_type": "code",
   "execution_count": 6,
   "id": "e77e62fc-8589-42db-8c9d-b8ed3beffbee",
   "metadata": {},
   "outputs": [
    {
     "data": {
      "text/plain": [
       "Note(time=2.5, step='0111')"
      ]
     },
     "execution_count": 6,
     "metadata": {},
     "output_type": "execute_result"
    }
   ],
   "source": [
    "Note(time = 2.5, step = '0110') + Note(time = 2.5, step = '0001')"
   ]
  },
  {
   "cell_type": "markdown",
   "id": "f33323e7-1925-4eae-963a-f7238cd0ebf3",
   "metadata": {
    "papermill": {},
    "tags": []
   },
   "source": [
    "`Note` objects can be added together only if they share the same `time` attribute and if their `step` attribute does not overlap (i.e. contains no zero-framers). We will address zero-framer processing in the next section."
   ]
  },
  {
   "cell_type": "code",
   "execution_count": 7,
   "id": "11fb2fda-98f8-4446-8f0a-9ef8b65fd04f",
   "metadata": {},
   "outputs": [
    {
     "ename": "ValueError",
     "evalue": "Cannot add two Notes with different times attributes.",
     "output_type": "error",
     "traceback": [
      "\u001b[0;31m---------------------------------------------------------------------------\u001b[0m",
      "\u001b[0;31mValueError\u001b[0m                                Traceback (most recent call last)",
      "Cell \u001b[0;32mIn[7], line 1\u001b[0m\n\u001b[0;32m----> 1\u001b[0m \u001b[43mNote\u001b[49m\u001b[43m(\u001b[49m\u001b[43mtime\u001b[49m\u001b[43m \u001b[49m\u001b[38;5;241;43m=\u001b[39;49m\u001b[43m \u001b[49m\u001b[38;5;241;43m2.5\u001b[39;49m\u001b[43m,\u001b[49m\u001b[43m \u001b[49m\u001b[43mstep\u001b[49m\u001b[43m \u001b[49m\u001b[38;5;241;43m=\u001b[39;49m\u001b[43m \u001b[49m\u001b[38;5;124;43m'\u001b[39;49m\u001b[38;5;124;43m0110\u001b[39;49m\u001b[38;5;124;43m'\u001b[39;49m\u001b[43m)\u001b[49m\u001b[43m \u001b[49m\u001b[38;5;241;43m+\u001b[39;49m\u001b[43m \u001b[49m\u001b[43mNote\u001b[49m\u001b[43m(\u001b[49m\u001b[43mtime\u001b[49m\u001b[43m \u001b[49m\u001b[38;5;241;43m=\u001b[39;49m\u001b[43m \u001b[49m\u001b[38;5;241;43m3\u001b[39;49m\u001b[43m,\u001b[49m\u001b[43m \u001b[49m\u001b[43mstep\u001b[49m\u001b[43m \u001b[49m\u001b[38;5;241;43m=\u001b[39;49m\u001b[43m \u001b[49m\u001b[38;5;124;43m'\u001b[39;49m\u001b[38;5;124;43m0110\u001b[39;49m\u001b[38;5;124;43m'\u001b[39;49m\u001b[43m)\u001b[49m\n",
      "File \u001b[0;32m/mnt/c/cygwin64/home/wcheu/acubed/acubed/datatypes.py:69\u001b[0m, in \u001b[0;36mNote.__add__\u001b[0;34m(self, other)\u001b[0m\n\u001b[1;32m     66\u001b[0m     \u001b[38;5;28;01mreturn\u001b[39;00m \u001b[38;5;28mNotImplemented\u001b[39m\n\u001b[1;32m     68\u001b[0m \u001b[38;5;28;01mif\u001b[39;00m \u001b[38;5;28mself\u001b[39m\u001b[38;5;241m.\u001b[39mtime \u001b[38;5;241m!=\u001b[39m other\u001b[38;5;241m.\u001b[39mtime:\n\u001b[0;32m---> 69\u001b[0m     \u001b[38;5;28;01mraise\u001b[39;00m \u001b[38;5;167;01mValueError\u001b[39;00m(\u001b[38;5;124m\"\u001b[39m\u001b[38;5;124mCannot add two Notes with different times attributes.\u001b[39m\u001b[38;5;124m\"\u001b[39m)\n\u001b[1;32m     71\u001b[0m \u001b[38;5;28;01mif\u001b[39;00m other:\n\u001b[1;32m     72\u001b[0m     \u001b[38;5;28;01mif\u001b[39;00m (\u001b[38;5;124m'\u001b[39m\u001b[38;5;124m1\u001b[39m\u001b[38;5;124m'\u001b[39m, \u001b[38;5;124m'\u001b[39m\u001b[38;5;124m1\u001b[39m\u001b[38;5;124m'\u001b[39m) \u001b[38;5;129;01min\u001b[39;00m \u001b[38;5;28mzip\u001b[39m(\u001b[38;5;28mself\u001b[39m\u001b[38;5;241m.\u001b[39mstep, other\u001b[38;5;241m.\u001b[39mstep):\n",
      "\u001b[0;31mValueError\u001b[0m: Cannot add two Notes with different times attributes."
     ]
    }
   ],
   "source": [
    "Note(time = 2.5, step = '0110') + Note(time = 3, step = '0110')"
   ]
  },
  {
   "cell_type": "code",
   "execution_count": 8,
   "id": "bfd999f1-4517-400a-8619-88236f20c077",
   "metadata": {},
   "outputs": [
    {
     "ename": "ValueError",
     "evalue": "Cannot add Notes with overlapping step orientations.",
     "output_type": "error",
     "traceback": [
      "\u001b[0;31m---------------------------------------------------------------------------\u001b[0m",
      "\u001b[0;31mValueError\u001b[0m                                Traceback (most recent call last)",
      "Cell \u001b[0;32mIn[8], line 1\u001b[0m\n\u001b[0;32m----> 1\u001b[0m \u001b[43mNote\u001b[49m\u001b[43m(\u001b[49m\u001b[43mtime\u001b[49m\u001b[43m \u001b[49m\u001b[38;5;241;43m=\u001b[39;49m\u001b[43m \u001b[49m\u001b[38;5;241;43m2.5\u001b[39;49m\u001b[43m,\u001b[49m\u001b[43m \u001b[49m\u001b[43mstep\u001b[49m\u001b[43m \u001b[49m\u001b[38;5;241;43m=\u001b[39;49m\u001b[43m \u001b[49m\u001b[38;5;124;43m'\u001b[39;49m\u001b[38;5;124;43m0110\u001b[39;49m\u001b[38;5;124;43m'\u001b[39;49m\u001b[43m)\u001b[49m\u001b[43m \u001b[49m\u001b[38;5;241;43m+\u001b[39;49m\u001b[43m \u001b[49m\u001b[43mNote\u001b[49m\u001b[43m(\u001b[49m\u001b[43mtime\u001b[49m\u001b[43m \u001b[49m\u001b[38;5;241;43m=\u001b[39;49m\u001b[43m \u001b[49m\u001b[38;5;241;43m2.5\u001b[39;49m\u001b[43m,\u001b[49m\u001b[43m \u001b[49m\u001b[43mstep\u001b[49m\u001b[43m \u001b[49m\u001b[38;5;241;43m=\u001b[39;49m\u001b[43m \u001b[49m\u001b[38;5;124;43m'\u001b[39;49m\u001b[38;5;124;43m0101\u001b[39;49m\u001b[38;5;124;43m'\u001b[39;49m\u001b[43m)\u001b[49m\n",
      "File \u001b[0;32m/mnt/c/cygwin64/home/wcheu/acubed/acubed/datatypes.py:73\u001b[0m, in \u001b[0;36mNote.__add__\u001b[0;34m(self, other)\u001b[0m\n\u001b[1;32m     71\u001b[0m \u001b[38;5;28;01mif\u001b[39;00m other:\n\u001b[1;32m     72\u001b[0m     \u001b[38;5;28;01mif\u001b[39;00m (\u001b[38;5;124m'\u001b[39m\u001b[38;5;124m1\u001b[39m\u001b[38;5;124m'\u001b[39m, \u001b[38;5;124m'\u001b[39m\u001b[38;5;124m1\u001b[39m\u001b[38;5;124m'\u001b[39m) \u001b[38;5;129;01min\u001b[39;00m \u001b[38;5;28mzip\u001b[39m(\u001b[38;5;28mself\u001b[39m\u001b[38;5;241m.\u001b[39mstep, other\u001b[38;5;241m.\u001b[39mstep):\n\u001b[0;32m---> 73\u001b[0m         \u001b[38;5;28;01mraise\u001b[39;00m \u001b[38;5;167;01mValueError\u001b[39;00m(\u001b[38;5;124m\"\u001b[39m\u001b[38;5;124mCannot add Notes with overlapping step orientations.\u001b[39m\u001b[38;5;124m\"\u001b[39m)\n\u001b[1;32m     74\u001b[0m     \u001b[38;5;28;01melse\u001b[39;00m:\n\u001b[1;32m     75\u001b[0m         updated_step \u001b[38;5;241m=\u001b[39m \u001b[38;5;124mf\u001b[39m\u001b[38;5;124m\"\u001b[39m\u001b[38;5;132;01m{\u001b[39;00m\u001b[38;5;28mint\u001b[39m(\u001b[38;5;28mself\u001b[39m\u001b[38;5;241m.\u001b[39mstep,\u001b[38;5;250m \u001b[39m\u001b[38;5;241m2\u001b[39m)\u001b[38;5;250m \u001b[39m\u001b[38;5;241m+\u001b[39m\u001b[38;5;250m \u001b[39m\u001b[38;5;28mint\u001b[39m(other\u001b[38;5;241m.\u001b[39mstep,\u001b[38;5;250m \u001b[39m\u001b[38;5;241m2\u001b[39m)\u001b[38;5;132;01m:\u001b[39;00m\u001b[38;5;124m0\u001b[39m\u001b[38;5;132;01m{\u001b[39;00m\u001b[38;5;28mself\u001b[39m\u001b[38;5;241m.\u001b[39mnum_receptors\u001b[38;5;132;01m}\u001b[39;00m\u001b[38;5;124mb\u001b[39m\u001b[38;5;132;01m}\u001b[39;00m\u001b[38;5;124m\"\u001b[39m\n",
      "\u001b[0;31mValueError\u001b[0m: Cannot add Notes with overlapping step orientations."
     ]
    }
   ],
   "source": [
    "Note(time = 2.5, step = '0110') + Note(time = 2.5, step = '0101')"
   ]
  },
  {
   "cell_type": "markdown",
   "id": "0c54c44d-930f-44c5-8a06-20c50ab01f2f",
   "metadata": {
    "papermill": {},
    "tags": []
   },
   "source": [
    "### Stepfiles"
   ]
  },
  {
   "cell_type": "markdown",
   "id": "dc552689-2223-4b34-930f-797c1da37a73",
   "metadata": {},
   "source": [
    "TODO"
   ]
  },
  {
   "cell_type": "code",
   "execution_count": null,
   "id": "8439ed05-4a87-4ca5-af92-5f979730bd2e",
   "metadata": {
    "papermill": {},
    "tags": []
   },
   "outputs": [],
   "source": []
  },
  {
   "cell_type": "markdown",
   "id": "8acc17ec-b543-49ef-befb-f57a96c08878",
   "metadata": {
    "papermill": {},
    "tags": []
   },
   "source": [
    " "
   ]
  }
 ],
 "metadata": {
  "kernelspec": {
   "display_name": "acubed",
   "language": "python",
   "name": "acubed"
  },
  "language_info": {
   "codemirror_mode": {
    "name": "ipython",
    "version": 3
   },
   "file_extension": ".py",
   "mimetype": "text/x-python",
   "name": "python",
   "nbconvert_exporter": "python",
   "pygments_lexer": "ipython3",
   "version": "3.10.12"
  },
  "naas": {
   "notebook_id": "1b0f742b14019f6471df8b63da4b92c06192acbe92d849987e62afafb2dac907",
   "notebook_path": "Python/Python_Convert_currency.ipynb"
  },
  "papermill": {
   "default_parameters": {},
   "environment_variables": {},
   "parameters": {},
   "version": "2.4.0"
  },
  "widgets": {
   "application/vnd.jupyter.widget-state+json": {
    "state": {},
    "version_major": 2,
    "version_minor": 0
   }
  }
 },
 "nbformat": 4,
 "nbformat_minor": 5
}
